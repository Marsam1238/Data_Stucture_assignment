{
  "nbformat": 4,
  "nbformat_minor": 0,
  "metadata": {
    "colab": {
      "provenance": []
    },
    "kernelspec": {
      "name": "python3",
      "display_name": "Python 3"
    },
    "language_info": {
      "name": "python"
    }
  },
  "cells": [
    {
      "cell_type": "code",
      "execution_count": null,
      "metadata": {
        "id": "Drh-4NvB7T6F"
      },
      "outputs": [],
      "source": []
    },
    {
      "cell_type": "markdown",
      "source": [
        "# Python - Data Structure Assignment\n"
      ],
      "metadata": {
        "id": "NQ8xgi8d7YHT"
      }
    },
    {
      "cell_type": "markdown",
      "source": [
        "Q1. What are data structures, and why are they important?\n",
        "\n",
        "Data structures are a specific way of organizing data in a well organized format on a computer so that the information can be organized, processed, stored, and retrieved quickly and effectively.\n",
        "It is important because\n",
        "they make the code more efficient\n",
        "and they make the code easier to understand.\n",
        "Simplify data manipulation (adding, removing, modifying elements)\n",
        "Conserve memory usage\n"
      ],
      "metadata": {
        "id": "8p07qRRO70iw"
      }
    },
    {
      "cell_type": "markdown",
      "source": [
        "Q2. Explain the difference between mutable and immutable data types with examples.\n",
        "\n",
        "Mutable data types in which the data can be modified by adding or removing the element .\n",
        "for example: List , set and ddictionaries.\n",
        "Immutable data types in which the data cannot be modified by adding or removing the element.\n",
        "for example: Stings and Tuples"
      ],
      "metadata": {
        "id": "V8jzhn8w-Dyp"
      }
    },
    {
      "cell_type": "markdown",
      "source": [
        "Q3. What are the main differences between lists and tuples in Python?\n",
        "\n",
        "Lists are mutable which means the values are editable even after the list is being created, where as, Tuples are immutable which means tuples cannot be modified by adding or removing element."
      ],
      "metadata": {
        "id": "8ozwkokw-ERz"
      }
    },
    {
      "cell_type": "markdown",
      "source": [
        "Q4. Describe how dictionaries store data.\n",
        "\n",
        "Dictionaries are key-value pairs that allow you to store and retrieve data based on a 'unique key'. The keys must be immutable or unique, such as strings or numbers. Dictionaries are useful for storing data that needs to be accessed quickly and efficiently.\n",
        "\n",
        "   syntax:\n",
        "   dic = {\"name\":\"Samrat\", \"email\":\"ssamrat1250@gmail.com\", \"contact\": 7985}\n",
        "   #key must be unique in this key are; name, email ,contact."
      ],
      "metadata": {
        "id": "VqSVhuiO-P9j"
      }
    },
    {
      "cell_type": "markdown",
      "source": [
        "Q5. Why might you use a set instead of a list in Python?\n",
        "\n",
        "Use Set when you want the content should be unique and order of content doesn't matter, while List is used when you need to maintain the order of elements and allow duplicates."
      ],
      "metadata": {
        "id": "dPbunjNi-TxR"
      }
    },
    {
      "cell_type": "markdown",
      "source": [
        "Q6. What is a string in Python, and how is it different from a list?\n",
        "\n",
        "String is a sequence of data. The main difference is that, String is a immutable data type while list is mutable. Stings data are to be stroed within single(' ') or double quote (\" \")."
      ],
      "metadata": {
        "id": "kvK2f504-heR"
      }
    },
    {
      "cell_type": "markdown",
      "source": [
        "Q7. How do tuples ensure data integrity in Python?\n",
        "\n",
        "Tuples are immutable to ensure that their contents remains constant. which means the value will remain unchanged."
      ],
      "metadata": {
        "id": "guD_h4fc-iT-"
      }
    },
    {
      "cell_type": "markdown",
      "source": [
        "Q8. What is a hash table, and how does it relate to dictionaries in Python?\n",
        "\n",
        "A Hash Table in Python is nothing but a data structure where data is stored in an proper manner. In hash tables, data is stored in an array format, with every data value having an exclusive or unique index value.\n"
      ],
      "metadata": {
        "id": "Nx-O0j98-pEf"
      }
    },
    {
      "cell_type": "markdown",
      "source": [
        "Q9. Can lists contain different data types in Python?\n",
        "\n",
        "Yes, lists can contain the different data types in python. Like, string , integer, bollean, and so on."
      ],
      "metadata": {
        "id": "MmtNBvrR-pbJ"
      }
    },
    {
      "cell_type": "markdown",
      "source": [
        "Q10. Explain why strings are immutable in Python.\n",
        "\n",
        "As we know onces the string value is being assigned to the varible the value cannot be changed or modifed because the value is being assigned in the varible or memory of the system."
      ],
      "metadata": {
        "id": "UKRS68n7-pm2"
      }
    },
    {
      "cell_type": "markdown",
      "source": [
        "Q11.What advantages do dictionaries offer over lists for certain tasks?\n",
        "\n",
        "The dictionaries stores data as key value pair which helps in retreving the data more effectively.\n",
        "\n",
        "where as in lists the data retreiving the index postion has to be given for getting the data fromn the list"
      ],
      "metadata": {
        "id": "CbBpmEGq-0Di"
      }
    },
    {
      "cell_type": "code",
      "source": [
        "   #in dictionaries the retreving of data by using the key i.e. name\n",
        "dic = {\"name\":\"Samrat\", \"email\":\"ssamrat1250@gmail.com\", \"contact\": 96452}\n",
        "dic['name']\n",
        "\n",
        "#in lists the retreving of data by using the index no.\n",
        "\n",
        "list1= [1, 2, 3, 4]\n",
        "list[0]"
      ],
      "metadata": {
        "id": "r37BrFaX-1FT"
      },
      "execution_count": null,
      "outputs": []
    },
    {
      "cell_type": "markdown",
      "source": [
        "Q12. Describe a scenario where using a tuple would be preferable over a list.\n",
        "\n",
        "Tuples can be used in the scenario where the value has be remained unchanged\n",
        "For example\n",
        "\n",
        "employee id\n",
        "roll no\n",
        "account number and many more."
      ],
      "metadata": {
        "id": "FnKRQQUt_Csm"
      }
    },
    {
      "cell_type": "markdown",
      "source": [
        "Q13.How do sets handle duplicate values in Python?\n",
        "\n",
        "Set function is being used to remove duplicate values in python"
      ],
      "metadata": {
        "id": "Q_ah7M_x_L5H"
      }
    },
    {
      "cell_type": "code",
      "source": [
        "items = ['apple', 'banana', 'apple', 'onion', 'apple']\n",
        "set1 = (set(items))\n",
        "print(set1)"
      ],
      "metadata": {
        "colab": {
          "base_uri": "https://localhost:8080/",
          "height": 0
        },
        "id": "TGt8_l6N_MwR",
        "outputId": "b677059f-1892-4e5b-d145-e37aaba3c0c5"
      },
      "execution_count": 6,
      "outputs": [
        {
          "output_type": "stream",
          "name": "stdout",
          "text": [
            "{'banana', 'apple', 'onion'}\n"
          ]
        }
      ]
    },
    {
      "cell_type": "markdown",
      "source": [
        "Q14.How does the “in” keyword work differently for lists and dictionaries?\n",
        "\n",
        "\"in\" keyword in list are usefull to find whether the element is present in the list or not"
      ],
      "metadata": {
        "id": "jW-5T7Hq_Off"
      }
    },
    {
      "cell_type": "code",
      "source": [
        "# In lists, the 'in' keyword checks if an element is present in the list.\n",
        "my_list = [\"Apple\", \"Banana\", \"orange\"]\n",
        "print('Apple' in my_list)\n",
        "print('Grape' in my_list)\n",
        "\n",
        "# In dictionaries, the 'in' keyword checks if a key is present in the dictionary.\n",
        "my_dict = {\"name\": \"Samrat\", \"email\": \"ssamrat1250@gmail.com\", \"contact\": 7985}\n",
        "print('name' in my_dict)\n",
        "print('address' in my_dict)"
      ],
      "metadata": {
        "colab": {
          "base_uri": "https://localhost:8080/",
          "height": 0
        },
        "id": "vGqUiMT4_RBp",
        "outputId": "aae71f0c-f1e3-4adb-9371-8a02a0418ba2"
      },
      "execution_count": 5,
      "outputs": [
        {
          "output_type": "stream",
          "name": "stdout",
          "text": [
            "True\n",
            "False\n",
            "True\n",
            "False\n"
          ]
        }
      ]
    },
    {
      "cell_type": "markdown",
      "source": [
        "Q15. Can you modify the elements of a tuple? Explain why or why not.\n",
        "\n",
        "No, we can not add, remove or modify the elements of a tuple once it is created , because the tuples are immutable data type and once the value being assigned it cannot be modified"
      ],
      "metadata": {
        "id": "zvMHv0rTANgF"
      }
    },
    {
      "cell_type": "markdown",
      "source": [
        "Q16.What is a nested dictionary, and give an example of its use case?\n",
        "\n",
        "In Python, a nested dictionary is a dictionary inside a dictionary. It's a collection of dictionaries into one single dictionary.\n",
        "\n",
        "the most popular use case is in:\n",
        "\n",
        "Restaurants\n",
        "\n",
        "Offices\n",
        "\n",
        "Schools\n",
        "\n",
        "Big companies"
      ],
      "metadata": {
        "id": "q2dEgZIBAOiu"
      }
    },
    {
      "cell_type": "code",
      "source": [
        "student = {\n",
        "    'R1': {'name': 'sahil', 'age': 25, 'contact': '5578'},\n",
        "    'R2': {'name': 'Ram', 'age': 18, 'contact': '9467'},\n",
        "    'R3': {'name': 'Amit', 'age': 22, 'contact': '7500'}\n",
        "    }\n",
        "student['R1']"
      ],
      "metadata": {
        "colab": {
          "base_uri": "https://localhost:8080/",
          "height": 0
        },
        "id": "vmuxCwkDAUwz",
        "outputId": "45d25ba2-a3d3-4d98-ca27-c8ce9e7def0b"
      },
      "execution_count": 9,
      "outputs": [
        {
          "output_type": "execute_result",
          "data": {
            "text/plain": [
              "{'name': 'sahil', 'age': 25, 'contact': '5578'}"
            ]
          },
          "metadata": {},
          "execution_count": 9
        }
      ]
    },
    {
      "cell_type": "markdown",
      "source": [
        "Output : - {'name': 'sahil', 'age': 25, 'contact': '5578'}"
      ],
      "metadata": {
        "id": "mi2ZRIsEAyM9"
      }
    },
    {
      "cell_type": "markdown",
      "source": [
        "Q17.Describe the time complexity of accessing elements in a dictionary.\n",
        "\n",
        "The time complexity of inserting a new element into a Python dictionary is typically O(1). This means that the time taken to insert an element into a dictionary is constant, regardless of the size of the dictionary. This is because Python dictionaries use a hash table data structure, which allows for fast insertion, retrieval, and deletion of key-value pairs."
      ],
      "metadata": {
        "id": "j8utDxFhBIJE"
      }
    },
    {
      "cell_type": "markdown",
      "source": [
        "Q18.In what situations are lists preferred over dictionaries?\n",
        "\n",
        "If you need an ordered collection, like a sequence of user actions, then lists are useful. On the other hand, when you need quick look-ups to user data, dictionaries are invaluable.\n",
        "Elements from the list can be accessed using the index, while the elements of the dictionary can be accessed using keys."
      ],
      "metadata": {
        "id": "zUpmO-Z0BK3Z"
      }
    },
    {
      "cell_type": "markdown",
      "source": [
        "Q19. Why are dictionaries considered unordered, and how does that affect data retrieval?\n",
        "\n",
        "Dictionary is a data structure which is a important value structure, optimized for fast storage and recovery based on key. In python, dictionaries are unordered because Python dictionaries are not programmed to be in order, as simple as that."
      ],
      "metadata": {
        "id": "kaaxdLexBNjy"
      }
    },
    {
      "cell_type": "markdown",
      "source": [
        "Q20.Explain the difference between a list and a dictionary in terms of data retrieval.\n",
        "\n",
        "A list is an ordered collection of items, whereas a dictionary is an unordered data collection in a key-value pair. Elements from the list can be accessed using the index, while the elements of the dictionary can be accessed using keys."
      ],
      "metadata": {
        "id": "qM_LmgH-BPxB"
      }
    },
    {
      "cell_type": "code",
      "source": [
        "#For exasmple:\n",
        "#in dictionaries the retreving of data by using the key i.e. name\n",
        "dic = {\"name\":\"Samrat\", \"email\":\"ssamrat@gmail.com\", \"contact\": 589652}\n",
        "dic['name']\n",
        "\n",
        "#in lists the retreving of data by using the index no.\n",
        "list1= [1, 2, 3, 4]\n",
        "list[0]"
      ],
      "metadata": {
        "colab": {
          "base_uri": "https://localhost:8080/",
          "height": 0
        },
        "id": "FdHr2YjhBSsK",
        "outputId": "f1610c5d-7c9a-4d92-8b43-62653ff6a36c"
      },
      "execution_count": 11,
      "outputs": [
        {
          "output_type": "execute_result",
          "data": {
            "text/plain": [
              "list[0]"
            ]
          },
          "metadata": {},
          "execution_count": 11
        }
      ]
    },
    {
      "cell_type": "markdown",
      "source": [
        "**Practical Questions**"
      ],
      "metadata": {
        "id": "C0ULfBTkBwxu"
      }
    },
    {
      "cell_type": "markdown",
      "source": [],
      "metadata": {
        "id": "IWYz_0W0B0jh"
      }
    },
    {
      "cell_type": "code",
      "source": [
        "# # Question 1. Write a code to create a string with your name and print it\n",
        "name = \"Samrat\"\n",
        "print(name)\n",
        "\n",
        "## output Samrat"
      ],
      "metadata": {
        "colab": {
          "base_uri": "https://localhost:8080/",
          "height": 0
        },
        "id": "sNSB-XeSCXwN",
        "outputId": "4a0e598e-6585-4ce9-b3cf-0bb4833f6337"
      },
      "execution_count": 13,
      "outputs": [
        {
          "output_type": "stream",
          "name": "stdout",
          "text": [
            "Samrat\n"
          ]
        }
      ]
    },
    {
      "cell_type": "code",
      "source": [
        "# Question 2.  Write a code to find the length of the string \"Hello World\"\n",
        "\n",
        "string = \"Hello World\"\n",
        "print(len(string))\n",
        "\n",
        "## output 11"
      ],
      "metadata": {
        "colab": {
          "base_uri": "https://localhost:8080/",
          "height": 0
        },
        "id": "B3wWoQ38DfR9",
        "outputId": "db699064-9879-4a4d-f75c-330c961951e0"
      },
      "execution_count": 14,
      "outputs": [
        {
          "output_type": "stream",
          "name": "stdout",
          "text": [
            "11\n"
          ]
        }
      ]
    },
    {
      "cell_type": "code",
      "source": [
        "# 3. Write a code to slice the first 3 characters from the string \"Python Programming\"\n",
        "string = \"Python Programming\"\n",
        "sliced_string = string[:3]\n",
        "print(sliced_string)\n",
        "\n",
        "# output Pyt"
      ],
      "metadata": {
        "id": "tx1Wf3QlDvEg"
      },
      "execution_count": null,
      "outputs": []
    },
    {
      "cell_type": "code",
      "metadata": {
        "colab": {
          "base_uri": "https://localhost:8080/",
          "height": 0
        },
        "id": "6f32dbf9",
        "outputId": "640f60c5-abfb-4d2e-fb65-d895395bde45"
      },
      "source": [
        "# Question 4. Write a code to convert the string \"hello\" to uppercase\n",
        "s  =  \"hello\"\n",
        "print(s.upper())\n",
        "\n",
        "# output HELLO"
      ],
      "execution_count": 17,
      "outputs": [
        {
          "output_type": "stream",
          "name": "stdout",
          "text": [
            "HELLO\n"
          ]
        }
      ]
    },
    {
      "cell_type": "code",
      "source": [
        "# Question 5.  Write a code to replace the word \"apple\" with \"orange\" in the string \"I like apple\"\n",
        "s = \"I like apple\"\n",
        "s1 = s.replace(\"apple\", \"orange\")\n",
        "print(s1)\n",
        "\n",
        "# output I like orange"
      ],
      "metadata": {
        "colab": {
          "base_uri": "https://localhost:8080/",
          "height": 0
        },
        "id": "8QlsJRaoElyu",
        "outputId": "4c332768-fa21-4b48-daa8-30f59e5d30f1"
      },
      "execution_count": 18,
      "outputs": [
        {
          "output_type": "stream",
          "name": "stdout",
          "text": [
            "I like orange\n"
          ]
        }
      ]
    },
    {
      "cell_type": "code",
      "source": [
        "# Question 6.  Write a code to create a list with numbers 1 to 5 and print it\n",
        "my_list = list(range(1,6))\n",
        "print(\"My list:\", my_list)\n",
        "\n",
        "# output - My list: [1, 2, 3, 4, 5]"
      ],
      "metadata": {
        "colab": {
          "base_uri": "https://localhost:8080/",
          "height": 0
        },
        "id": "YIZ70WS2E3YD",
        "outputId": "9d83a001-ad44-4a7c-e2c8-847ce1c5113d"
      },
      "execution_count": 19,
      "outputs": [
        {
          "output_type": "stream",
          "name": "stdout",
          "text": [
            "My list: [1, 2, 3, 4, 5]\n"
          ]
        }
      ]
    },
    {
      "cell_type": "code",
      "source": [
        "# Question 7 ' Write a code to append the number 10 to the list [1, 2, 3, 4]\n",
        "\n",
        "list = [1, 2, 3, 4]\n",
        "list.append(10)\n",
        "print(list)\n",
        "\n",
        "# output - [1, 2, 3, 4, 10]"
      ],
      "metadata": {
        "colab": {
          "base_uri": "https://localhost:8080/",
          "height": 0
        },
        "id": "1exs2_BiFWWj",
        "outputId": "7d49b3a5-4efc-45dd-8ff4-f98f8c576717"
      },
      "execution_count": 20,
      "outputs": [
        {
          "output_type": "stream",
          "name": "stdout",
          "text": [
            "[1, 2, 3, 4, 10]\n"
          ]
        }
      ]
    },
    {
      "cell_type": "code",
      "source": [
        "# Question 8. Write a code to remove the number 3 from the list [1, 2, 3, 4, 5]\n",
        "list =  [1, 2, 3, 4, 5]\n",
        "list.remove(3)\n",
        "print(list)\n",
        "\n",
        "#output [1, 2, 4, 5]"
      ],
      "metadata": {
        "colab": {
          "base_uri": "https://localhost:8080/",
          "height": 0
        },
        "id": "Ma5El8e1FlIW",
        "outputId": "ec0e3e4b-73e6-4fc0-f37a-c13d91cafa8f"
      },
      "execution_count": 21,
      "outputs": [
        {
          "output_type": "stream",
          "name": "stdout",
          "text": [
            "[1, 2, 4, 5]\n"
          ]
        }
      ]
    },
    {
      "cell_type": "code",
      "source": [
        "# Question 9. Write a code to access the second element in the list ['a', 'b', 'c', 'd']\n",
        "list = ['a', 'b', 'c', 'd']\n",
        "print(list[1])\n",
        "\n",
        "# output - b\n",
        "\n"
      ],
      "metadata": {
        "id": "noOQjW_uF6Q8"
      },
      "execution_count": null,
      "outputs": []
    },
    {
      "cell_type": "code",
      "source": [
        "# Question 10.Write a code to reverse the list [10, 20, 30, 40, 50]\n",
        "list = [10, 20, 30, 40, 50]\n",
        "list.reverse()\n",
        "print(list)\n",
        "\n",
        "# output - [50, 40, 30, 20, 10]"
      ],
      "metadata": {
        "id": "ENeXmBbRF82Y"
      },
      "execution_count": null,
      "outputs": []
    },
    {
      "cell_type": "code",
      "source": [
        "# Question 11. Write a code to create a tuple with the elements 100, 200, 300 and print it.\n",
        "tup = (100, 200, 300)\n",
        "print(tup)\n",
        "\n",
        "# output - (100, 200, 300)"
      ],
      "metadata": {
        "colab": {
          "base_uri": "https://localhost:8080/",
          "height": 0
        },
        "id": "X5Ea-QRQF9As",
        "outputId": "5e2ca606-9873-4455-aea1-bf7cf01a0932"
      },
      "execution_count": 22,
      "outputs": [
        {
          "output_type": "stream",
          "name": "stdout",
          "text": [
            "(100, 200, 300)\n"
          ]
        }
      ]
    },
    {
      "cell_type": "code",
      "source": [
        "# Question 12.Write a code to access the second-to-last element of the tuple ('red', 'green', 'blue', 'yellow').\n",
        "tup1 =  ('red', 'green', 'blue', 'yellow')\n",
        "print(tup1[-2])\n",
        "\n",
        "# output - blue\n"
      ],
      "metadata": {
        "colab": {
          "base_uri": "https://localhost:8080/",
          "height": 0
        },
        "id": "_uKD4dwdF9Lx",
        "outputId": "07ac2534-5ef6-4fa9-e2b5-f15461bb6297"
      },
      "execution_count": 28,
      "outputs": [
        {
          "output_type": "stream",
          "name": "stdout",
          "text": [
            "blue\n"
          ]
        }
      ]
    },
    {
      "cell_type": "code",
      "source": [
        "# Question 13. Write a code to find the minimum number in the tuple (10, 20, 5, 15).\n",
        "tup2 = (10, 20, 5, 15)\n",
        "print(min(tup2))\n",
        "\n",
        "# output - 5"
      ],
      "metadata": {
        "colab": {
          "base_uri": "https://localhost:8080/",
          "height": 0
        },
        "id": "xMFmz_I2Hw16",
        "outputId": "c8651514-46d4-453e-97e6-c75b5cf932e1"
      },
      "execution_count": 29,
      "outputs": [
        {
          "output_type": "stream",
          "name": "stdout",
          "text": [
            "5\n"
          ]
        }
      ]
    },
    {
      "cell_type": "code",
      "source": [
        "# Question 14.Write a code to find the index of the element \"cat\" in the tuple ('dog', 'cat', 'rabbit').\n",
        "tup3 = ('dog', 'cat', 'rabbit')\n",
        "print(tup3.index('cat'))\n",
        "\n",
        "# output  1\n",
        ""
      ],
      "metadata": {
        "id": "P_6Ldh3IH3DO"
      },
      "execution_count": null,
      "outputs": []
    },
    {
      "cell_type": "code",
      "source": [
        "# Question 15. Write a code to create a tuple containing three different fruits and check if \"kiwi\" is in it.\n",
        "tup3 = ('apple', 'banana', 'orange')\n",
        "print('kiwi' in tup3)\n",
        "\n",
        "# output - False"
      ],
      "metadata": {
        "id": "vOhBDV6TH3OM"
      },
      "execution_count": null,
      "outputs": []
    },
    {
      "cell_type": "code",
      "source": [
        "# Question 16. Write a code to create a set with the elements 'a', 'b', 'c' and print it.\n",
        "set1 = {'a', 'b', 'c'}\n",
        "print(set1)\n",
        "\n",
        "# output - {'a', 'b', 'c'}"
      ],
      "metadata": {
        "colab": {
          "base_uri": "https://localhost:8080/",
          "height": 0
        },
        "id": "DaiOKkDzH3Xx",
        "outputId": "7a624dc6-aa03-4090-f795-9d3f7e77af34"
      },
      "execution_count": 30,
      "outputs": [
        {
          "output_type": "stream",
          "name": "stdout",
          "text": [
            "{'a', 'c', 'b'}\n"
          ]
        }
      ]
    },
    {
      "cell_type": "code",
      "source": [
        "# Question 17.Write a code to clear all elements from the set {1, 2, 3, 4, 5}.\n",
        "set2 = {1, 2, 3, 4, 5}\n",
        "set2.clear()\n",
        "print(set2)\n",
        "\n",
        "# output - set()\n"
      ],
      "metadata": {
        "colab": {
          "base_uri": "https://localhost:8080/",
          "height": 0
        },
        "id": "H_ZU20S_IGkY",
        "outputId": "80d276f2-8bda-42d6-9418-b2b50b0de262"
      },
      "execution_count": 32,
      "outputs": [
        {
          "output_type": "stream",
          "name": "stdout",
          "text": [
            "set()\n"
          ]
        }
      ]
    },
    {
      "cell_type": "code",
      "source": [
        "# Question 18. Write a code to remove the element 4 from the set {1, 2, 3, 4}\n",
        "set3 = {1, 2, 3, 4}\n",
        "set3.remove(4)\n",
        "print(set3)\n",
        "\n",
        "# output - {1, 2, 3}\n"
      ],
      "metadata": {
        "id": "HNVbiv0fIGoR"
      },
      "execution_count": null,
      "outputs": []
    },
    {
      "cell_type": "code",
      "source": [
        "# Question 19.Write a code to find the union of two sets {1, 2, 3} and {3, 4, 5}.\n",
        "set4 = {1, 2, 3}\n",
        "set5 = {3, 4, 5}\n",
        "print(set4.union(set5))\n",
        "\n",
        "# output - {1, 2, 3, 4, 5}\n"
      ],
      "metadata": {
        "id": "73Q-BSagIGx6"
      },
      "execution_count": null,
      "outputs": []
    },
    {
      "cell_type": "code",
      "source": [
        "# Question 20.Write a code to find the intersection of two sets {1, 2, 3} and {2, 3, 4}\n",
        "set6 = {1, 2, 3}\n",
        "set7 = {2, 3, 4}\n",
        "print(set6.intersection(set7))\n",
        "\n",
        "# output - {2, 3}"
      ],
      "metadata": {
        "id": "XNy9qiNWIG7x"
      },
      "execution_count": null,
      "outputs": []
    },
    {
      "cell_type": "code",
      "source": [
        "# Question 21.Write a code to create a dictionary with the keys \"name\", \"age\", and \"city\", and print it.\n",
        "\n",
        "contact = {\n",
        "    \"name\": \"Barma\",\n",
        "    \"age\": 24,\n",
        "    \"city\": \"Indore\"\n",
        "}\n",
        "\n",
        "print(contact)\n",
        "\n",
        "# output - {'name': 'Barma', 'age': 24, 'city': 'Indore'}"
      ],
      "metadata": {
        "colab": {
          "base_uri": "https://localhost:8080/",
          "height": 0
        },
        "id": "jw8be42yIHDI",
        "outputId": "7b6a067c-0c97-45a6-ea84-3b8378861e7e"
      },
      "execution_count": 34,
      "outputs": [
        {
          "output_type": "stream",
          "name": "stdout",
          "text": [
            "{'name': 'Barma', 'age': 24, 'city': 'Indore'}\n"
          ]
        }
      ]
    },
    {
      "cell_type": "code",
      "source": [
        "# Question 22. Write a code to add a new key-value pair \"country\": \"USA\" to the dictionary {'name': 'John', 'age': 25}.\n",
        "contact = {'name': 'John', 'age': 25}\n",
        "contact['country'] = 'USA'\n",
        "print(contact)\n",
        "\n",
        "# output - {'name': 'John', 'age': 25, 'country': 'USA'}\n"
      ],
      "metadata": {
        "id": "xCM7_yb5IO67"
      },
      "execution_count": null,
      "outputs": []
    },
    {
      "cell_type": "code",
      "source": [
        "# Question 23. Write a code to access the value associated with the key \"name\" in the dictionary {'name': 'Alice', 'age': 30}.\n",
        "contact = {'name': 'Alice', 'age': 30}\n",
        "print(contact['name'])\n",
        "\n",
        "# output - Alice\n"
      ],
      "metadata": {
        "id": "SbOZ0UT-IPFO"
      },
      "execution_count": null,
      "outputs": []
    },
    {
      "cell_type": "code",
      "source": [
        "# Question 24. Write a code to remove the key \"age\" from the dictionary {'name': 'Bob', 'age': 22, 'city': 'New York'}.\n",
        "info = {'name': 'Bob', 'age': 22, 'city': 'New York'}\n",
        "del info['age']\n",
        "print(info)\n",
        "\n",
        "# output - {'name': 'Bob', 'city': 'New York'}\n",
        ""
      ],
      "metadata": {
        "colab": {
          "base_uri": "https://localhost:8080/",
          "height": 0
        },
        "id": "g5qYeFZ3KUYk",
        "outputId": "c18e6679-7d5e-4b60-d1af-b17d3dd32421"
      },
      "execution_count": 35,
      "outputs": [
        {
          "output_type": "stream",
          "name": "stdout",
          "text": [
            "{'name': 'Bob', 'city': 'New York'}\n"
          ]
        }
      ]
    },
    {
      "cell_type": "code",
      "source": [
        "# Question 25. Write a code to check if the key \"city\" exists in the dictionary {'name': 'Alice', 'city': 'Paris'}.\n",
        "info4 = {'name': 'Alice', 'city': 'Paris'}\n",
        "print('city' in info)\n",
        "\n",
        "# output - True"
      ],
      "metadata": {
        "colab": {
          "base_uri": "https://localhost:8080/",
          "height": 0
        },
        "id": "noZZiDcrKYB4",
        "outputId": "44c55c98-d2b9-4a95-a945-aea869c9d6fc"
      },
      "execution_count": 36,
      "outputs": [
        {
          "output_type": "stream",
          "name": "stdout",
          "text": [
            "True\n"
          ]
        }
      ]
    },
    {
      "cell_type": "code",
      "source": [
        "# Question 26. Write a code to create a list, a tuple, and a dictionary, and print them all.\n",
        "# Creating a list\n",
        "fruits = ['apple', 'banana', 'cherry']\n",
        "\n",
        "# Creating a tuple\n",
        "colors = ('red', 'green', 'blue')\n",
        "\n",
        "# Creating a dictionary\n",
        "person = {\n",
        "    'name': 'Anaya',\n",
        "    'age': 30,\n",
        "    'city': 'punjab'\n",
        "}\n",
        "\n",
        "# Printing all of them\n",
        "print(\"List:\", fruits)\n",
        "print(\"Tuple:\", colors)\n",
        "print(\"Dictionary:\", person)\n",
        "\n",
        "# output - List: ['apple', 'banana', 'cherry']\n",
        "#Tuple: ('red', 'green', 'blue')\n",
        "#Dictionary: {'name': 'Anaya', 'age': 30, 'city': 'punjab'}"
      ],
      "metadata": {
        "colab": {
          "base_uri": "https://localhost:8080/",
          "height": 0
        },
        "id": "oe2y3fIzKYLe",
        "outputId": "c4f83832-ecbe-4638-db6c-222fb2a1e484"
      },
      "execution_count": 37,
      "outputs": [
        {
          "output_type": "stream",
          "name": "stdout",
          "text": [
            "List: ['apple', 'banana', 'cherry']\n",
            "Tuple: ('red', 'green', 'blue')\n",
            "Dictionary: {'name': 'Anaya', 'age': 30, 'city': 'punjab'}\n"
          ]
        }
      ]
    },
    {
      "cell_type": "code",
      "source": [
        "# Question 27. Write a code to create a list of 5 random numbers between 1 and 100, sort it in ascending order, and print the\n",
        "#result.(replaced)\n",
        "import random\n",
        "random_numbers = random.sample(range(1, 101), 5)\n",
        "\n",
        "# sort\n",
        "random_numbers.sort()\n",
        "\n",
        "#  result\n",
        "print(\"Sorted random numbers:\", random_numbers)\n",
        "\n",
        "# output -  Sorted random numbers: [43, 61, 74, 77, 100]"
      ],
      "metadata": {
        "colab": {
          "base_uri": "https://localhost:8080/",
          "height": 0
        },
        "id": "aQIeXKKMKYTW",
        "outputId": "36a4a3b6-7da2-46f0-85a8-13bf06b91bab"
      },
      "execution_count": 38,
      "outputs": [
        {
          "output_type": "stream",
          "name": "stdout",
          "text": [
            "Sorted random numbers: [43, 61, 74, 77, 100]\n"
          ]
        }
      ]
    },
    {
      "cell_type": "code",
      "source": [
        "# Question 28. Write a code to create a list with strings and print the element at the third index\n",
        "list = ['apple', 'banana', 'cherry', 'mango', 'elderberry']\n",
        "print(list[3])\n",
        "\n",
        "# output - mango"
      ],
      "metadata": {
        "colab": {
          "base_uri": "https://localhost:8080/",
          "height": 0
        },
        "id": "Py2ktWwjKYgK",
        "outputId": "9d0d564e-1c8a-48d3-92f6-ce4582237680"
      },
      "execution_count": 40,
      "outputs": [
        {
          "output_type": "stream",
          "name": "stdout",
          "text": [
            "mango\n"
          ]
        }
      ]
    },
    {
      "cell_type": "code",
      "source": [
        "# Question 29. Write a code to combine two dictionaries into one and print the result.\n",
        "dict1 = {'a': 1, 'b': 2}\n",
        "dict2 = {'c': 3, 'd': 4}\n",
        "combined_dict = {**dict1, **dict2}\n",
        "print(combined_dict)\n",
        "\n",
        "# output - {'a': 1, 'b': 2, 'c': 3, 'd': 4}"
      ],
      "metadata": {
        "colab": {
          "base_uri": "https://localhost:8080/",
          "height": 0
        },
        "id": "b2EF6a73Kb-7",
        "outputId": "26dd2afb-0452-4a0e-e366-8f07cd563530"
      },
      "execution_count": 41,
      "outputs": [
        {
          "output_type": "stream",
          "name": "stdout",
          "text": [
            "{'a': 1, 'b': 2, 'c': 3, 'd': 4}\n"
          ]
        }
      ]
    },
    {
      "cell_type": "code",
      "source": [
        "# Question 30. Write a code to convert a list of strings into a set.\n",
        "list = ['apple', 'banana', 'cherry', 'mango', 'elderberry']\n",
        "set1 = set(list)\n",
        "print(set1)\n",
        "\n",
        "# output - {'cherry', 'mango', 'banana', 'apple', 'elderberry'}"
      ],
      "metadata": {
        "colab": {
          "base_uri": "https://localhost:8080/",
          "height": 0
        },
        "id": "IvQFNP6GKct2",
        "outputId": "44ce3576-4167-4b21-c602-e4956969ecdf"
      },
      "execution_count": 42,
      "outputs": [
        {
          "output_type": "stream",
          "name": "stdout",
          "text": [
            "{'cherry', 'mango', 'banana', 'apple', 'elderberry'}\n"
          ]
        }
      ]
    }
  ]
}